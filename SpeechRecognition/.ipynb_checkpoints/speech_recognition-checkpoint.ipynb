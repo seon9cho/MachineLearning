{
 "cells": [
  {
   "cell_type": "code",
   "execution_count": 11,
   "metadata": {},
   "outputs": [],
   "source": [
    "import numpy as np\n",
    "import MFCC\n",
    "from scipy.io import wavfile\n",
    "from glob import glob\n",
    "import gmmhmm\n",
    "import gmm\n",
    "from random import shuffle\n",
    "import warnings\n",
    "warnings.filterwarnings(\"ignore\")"
   ]
  },
  {
   "cell_type": "markdown",
   "metadata": {},
   "source": [
    "# Speech Recognition\n",
    "\n",
    "## Problem 1\n",
    "\n",
    "Write a function which accepts a GMMHMM in the format above as well as an integer `n_sim`, and which simulates the GMMHMM process, generating `n_sim` different observations. Do so by implementing the following function declaration."
   ]
  },
  {
   "cell_type": "code",
   "execution_count": 2,
   "metadata": {},
   "outputs": [],
   "source": [
    "def sample_gmmhmm(gmmhmm, n_sim):\n",
    "    \"\"\"\n",
    "    Simulate sampling from a GMMHMM.\n",
    "    \n",
    "    Parameters\n",
    "    ----------\n",
    "    gmmhmm (list): [A, weights, means, covars, pi] for the desired GMMHMM\n",
    "    n_sim (int): number of samples to return\n",
    "    \n",
    "    Returns\n",
    "    -------\n",
    "    states : ndarray of shape (n_sim,)\n",
    "        The sequence of states\n",
    "    obs : ndarray of shape (n_sim, K)\n",
    "        The generated observations (column vectors of length K)\n",
    "    \"\"\"\n",
    "    A, weights, means, covars, pi = gmmhmm\n",
    "    N = len(pi)\n",
    "    M = len(weights[0])\n",
    "    K = len(means[0, 0])\n",
    "    x_0 = np.random.choice(N, p=pi)\n",
    "    y = np.random.choice(M, p=weights[x_0])\n",
    "    z = np.random.multivariate_normal(means[x_0, y], covars[x_0, y])\n",
    "    Z = [z]\n",
    "    for _ in range(n_sim - 1):\n",
    "        x_t = np.random.choice(N, p=A[x_0])\n",
    "        y = np.random.choice(M, p=weights[x_t])\n",
    "        z = np.random.multivariate_normal(means[x_t, y], covars[x_t, y])\n",
    "        Z.append(z)\n",
    "    return np.array(Z)"
   ]
  },
  {
   "cell_type": "code",
   "execution_count": 3,
   "metadata": {},
   "outputs": [
    {
     "data": {
      "text/plain": [
       "array([[  2.10301184,  16.25719064,  -3.85285303],\n",
       "       [ -5.55732907,  -3.5139935 ,  23.6265745 ],\n",
       "       [  0.65070855,  17.30516415,  -7.33942269],\n",
       "       [ -1.7181279 ,  19.31996578,  -6.24037713],\n",
       "       [ -1.05857614,  17.44141131,  -4.74240837],\n",
       "       [ 14.48057114, -31.52134607,  -0.38867809],\n",
       "       [-11.46912266,  -3.11141959,  12.76010667],\n",
       "       [-15.22757878,  22.78737791,   1.38903656],\n",
       "       [-14.8387645 ,  19.08765826,   1.74355129],\n",
       "       [-14.17187624,  -2.4177823 ,  13.00883768]])"
      ]
     },
     "execution_count": 3,
     "metadata": {},
     "output_type": "execute_result"
    }
   ],
   "source": [
    "A = np.array([[.65, .35], [.15, .85]])\n",
    "pi = np.array([.8, .2])\n",
    "weights = np.array([[.7, .2, .1], [.1, .5, .4]])\n",
    "means1 = np.array([[0., 17., -4.], [5., -12., -8.], [-16., 22., 2.]])\n",
    "means2 = np.array([[-5., 3., 23.], [-12., -2., 14.], [15., -32., 0.]])\n",
    "means = np.array([means1, means2])\n",
    "covars1 = np.array([5*np.eye(3), 7*np.eye(3), np.eye(3)])\n",
    "covars2 = np.array([10*np.eye(3), 3*np.eye(3), 4*np.eye(3)])\n",
    "covars = np.array([covars1, covars2])\n",
    "_gmmhmm = [A, weights, means, covars, pi]\n",
    "sample_gmmhmm(_gmmhmm, 10)"
   ]
  },
  {
   "cell_type": "markdown",
   "metadata": {},
   "source": [
    "## Problem 2\n",
    "\n",
    "Load the provided audio files using `scipy.io.wavfile.read`. For each of the five words/phrases (mathematics, biology, political science, psychology, statistics), use `MFCC.extract()` on each of the 30 samples, saving the resulting arrays in a list."
   ]
  },
  {
   "cell_type": "code",
   "execution_count": 4,
   "metadata": {},
   "outputs": [
    {
     "name": "stderr",
     "output_type": "stream",
     "text": [
      "/Users/seong-euncho/anaconda3/lib/python3.6/site-packages/scipy/io/wavfile.py:273: WavFileWarning: Chunk (non-data) not understood, skipping it.\n",
      "  WavFileWarning)\n",
      "/Users/seong-euncho/anaconda3/lib/python3.6/site-packages/matplotlib/figure.py:98: MatplotlibDeprecationWarning: \n",
      "Adding an axes using the same arguments as a previous axes currently reuses the earlier instance.  In a future version, a new instance will always be created and returned.  Meanwhile, this warning can be suppressed, and the future behavior ensured, by passing a unique label to each axes instance.\n",
      "  \"Adding an axes using the same arguments as a previous axes \"\n"
     ]
    },
    {
     "data": {
      "image/png": "[encoded data removed]",
      "text/plain": [
       "<Figure size 432x288 with 1 Axes>"
      ]
     },
     "metadata": {
      "needs_background": "light"
     },
     "output_type": "display_data"
    }
   ],
   "source": [
    "math = []\n",
    "bio = []\n",
    "poli_sci = []\n",
    "psych = []\n",
    "stats = []\n",
    "for file in glob(\"Samples/*\"):\n",
    "    if \"Mathematics\" in file:\n",
    "        rate, signal = wavfile.read(file)\n",
    "        if len(signal) > 1e5:\n",
    "            continue\n",
    "        mfccs = MFCC.extract(signal)\n",
    "        math.append(mfccs)\n",
    "    elif \"Biology\" in file:\n",
    "        rate, signal = wavfile.read(file)\n",
    "        if len(signal) > 1e5:\n",
    "            continue\n",
    "        mfccs = MFCC.extract(signal)\n",
    "        bio.append(mfccs)\n",
    "    elif \"PoliticalScience\" in file:\n",
    "        rate, signal = wavfile.read(file)\n",
    "        if len(signal) > 1e5:\n",
    "            continue\n",
    "        mfccs = MFCC.extract(signal)\n",
    "        poli_sci.append(mfccs)\n",
    "    elif \"Psychology\" in file:\n",
    "        rate, signal = wavfile.read(file)\n",
    "        if len(signal) > 1e5:\n",
    "            continue\n",
    "        mfccs = MFCC.extract(signal)\n",
    "        psych.append(mfccs)\n",
    "    elif \"Statistics\" in file:\n",
    "        rate, signal = wavfile.read(file)\n",
    "        if len(signal) > 1e5:\n",
    "            continue\n",
    "        mfccs = MFCC.extract(signal)\n",
    "        stats.append(mfccs)\n",
    "    else:\n",
    "        print(False)"
   ]
  },
  {
   "cell_type": "markdown",
   "metadata": {},
   "source": [
    "## Problem 3\n",
    "\n",
    "Complete the function `initialize()`, which generates random starting state distributions and transition matrices. Make sure that the randomly-generated transition matrices are row-stochastic, and that the entries of `startprob` are nonnegative and sum to one.\n",
    "\n",
    "Partition each list of MFCCs into a training set of 20 samples, and a test set of the remaining 10 samples.\n",
    "\n",
    "Using the training sets, train a GMMHMM on each of the words from the previous problem with at least 10 random restarts (coming from `initialize()`, keeping the best model for each word (the one with the highest log-likelihood). This process may take several minutes."
   ]
  },
  {
   "cell_type": "code",
   "execution_count": 5,
   "metadata": {},
   "outputs": [],
   "source": [
    "def initialize(n_states):\n",
    "    \"\"\"\n",
    "    Generates random starting state distributions and random transition matrices \n",
    "    for a Markov chain with (n_states) states.\n",
    "\n",
    "    Parameters\n",
    "    ----------\n",
    "    n_states (int): number of states\n",
    "\n",
    "    Returns\n",
    "    -------\n",
    "    startprob (ndarray): random array of starting probabilites\n",
    "    transmat (ndarray): random row-stochastic transition matrix\n",
    "    \"\"\"\n",
    "    pi = np.random.random(n_states)\n",
    "    A = np.random.random((n_states, n_states))\n",
    "    pi /= pi.sum()\n",
    "    A /= A.sum(axis=1)[:,None]\n",
    "    return pi, A"
   ]
  },
  {
   "cell_type": "code",
   "execution_count": 37,
   "metadata": {},
   "outputs": [],
   "source": [
    "shuffle(math)\n",
    "shuffle(bio)\n",
    "shuffle(poli_sci)\n",
    "shuffle(psych)\n",
    "shuffle(stats)\n",
    "math_train, math_test = math[:20], math[20:]\n",
    "bio_train, bio_test = bio[:20], bio[20:]\n",
    "poli_sci_train, poli_sci_test = poli_sci[:20], poli_sci[20:]\n",
    "psych_train, psych_test = psych[:20], psych[20:]\n",
    "stats_train, stats_test = stats[:20], stats[20:]"
   ]
  },
  {
   "cell_type": "code",
   "execution_count": 44,
   "metadata": {},
   "outputs": [],
   "source": [
    "def best_model(samples):\n",
    "    models = []\n",
    "    for _ in range(10):\n",
    "        startprob, transmat = initialize(5)\n",
    "        model = gmmhmm.GMMHMM(n_components=5, n_mix=3, transmat=transmat, startprob=startprob, cvtype='diag')\n",
    "        model.covars_prior = 0.01\n",
    "        model.fit(samples, init_params='mc', var=0.1)\n",
    "        models.append(model)\n",
    "    return max(models, key=lambda x: x.logprob)"
   ]
  },
  {
   "cell_type": "code",
   "execution_count": 46,
   "metadata": {},
   "outputs": [],
   "source": [
    "math_model = best_model(math_train)\n",
    "bio_model = best_model(bio_train)\n",
    "poli_sci_model = best_model(poli_sci_train)\n",
    "psych_model = best_model(psych_train)\n",
    "stats_model = best_model(stats_train)"
   ]
  },
  {
   "cell_type": "markdown",
   "metadata": {},
   "source": [
    "## Problem 4\n",
    "\n",
    "Classify the 10 test samples for each word, by using the `.score()` method from each of the five optimal models, and then assigning it to the word associated with the model with the highest score. How does your system perform? Which words are the hardest to correctly classify? Make a dictionary containing the accuracy of the classification of your five testing sets. Specifically, the words/phrases will be the keys, and the values will be the percent accuracy."
   ]
  },
  {
   "cell_type": "code",
   "execution_count": 50,
   "metadata": {},
   "outputs": [],
   "source": [
    "def predict(signal):\n",
    "    math_score = math_model.score(signal)\n",
    "    bio_score = bio_model.score(signal)\n",
    "    poli_sci_score = poli_sci_model.score(signal)\n",
    "    psych_score = psych_model.score(signal)\n",
    "    stats_score = stats_model.score(signal)\n",
    "    scores = np.array([math_score, bio_score, poli_sci_score, psych_score, stats_score])\n",
    "    best = np.argmax(scores)\n",
    "    if best == 0:\n",
    "        return \"math\"\n",
    "    elif best == 1:\n",
    "        return \"bio\"\n",
    "    elif best == 2:\n",
    "        return \"poli_sci\"\n",
    "    elif best == 3:\n",
    "        return \"psych\"\n",
    "    elif best == 4:\n",
    "        return \"stats\""
   ]
  },
  {
   "cell_type": "code",
   "execution_count": 57,
   "metadata": {},
   "outputs": [
    {
     "name": "stdout",
     "output_type": "stream",
     "text": [
      "prediction: psych, actual: bio\n",
      "prediction: bio, actual: poli_sci\n"
     ]
    },
    {
     "data": {
      "text/plain": [
       "{'math': 1.0, 'bio': 0.9, 'poli_sci': 0.9, 'psych': 1.0, 'stats': 1.0}"
      ]
     },
     "execution_count": 57,
     "metadata": {},
     "output_type": "execute_result"
    }
   ],
   "source": [
    "clf_accuracy = {\"math\":0, \"bio\":0, \"poli_sci\":0, \"psych\":0, \"stats\":0}\n",
    "for signal in math_test:\n",
    "    pred = predict(signal)\n",
    "    if pred == \"math\":\n",
    "        clf_accuracy[\"math\"] += 1\n",
    "    else:\n",
    "        print(\"prediction: {}, actual: math\".format(pred))\n",
    "clf_accuracy[\"math\"] /= 10\n",
    "for signal in bio_test:\n",
    "    pred = predict(signal)\n",
    "    if pred == \"bio\":\n",
    "        clf_accuracy[\"bio\"] += 1\n",
    "    else:\n",
    "        print(\"prediction: {}, actual: bio\".format(pred))\n",
    "clf_accuracy[\"bio\"] /= 10\n",
    "for signal in poli_sci_test:\n",
    "    pred = predict(signal)\n",
    "    if pred == \"poli_sci\":\n",
    "        clf_accuracy[\"poli_sci\"] += 1\n",
    "    else:\n",
    "        print(\"prediction: {}, actual: poli_sci\".format(pred))\n",
    "clf_accuracy[\"poli_sci\"] /= 10\n",
    "for signal in psych_test:\n",
    "    pred = predict(signal)\n",
    "    if pred == \"psych\":\n",
    "        clf_accuracy[\"psych\"] += 1\n",
    "    else:\n",
    "        print(\"prediction: {}, actual: psych\".format(pred))\n",
    "clf_accuracy[\"psych\"] /= 10\n",
    "for signal in stats_test:\n",
    "    pred = predict(signal)\n",
    "    if pred == \"stats\":\n",
    "        clf_accuracy[\"stats\"] += 1\n",
    "    else:\n",
    "        print(\"prediction: {}, actual: stats\".format(pred))\n",
    "clf_accuracy[\"stats\"] /= 10\n",
    "clf_accuracy"
   ]
  },
  {
   "cell_type": "code",
   "execution_count": null,
   "metadata": {},
   "outputs": [],
   "source": []
  }
 ],
 "metadata": {
  "kernelspec": {
   "display_name": "Python 3",
   "language": "python",
   "name": "python3"
  },
  "language_info": {
   "codemirror_mode": {
    "name": "ipython",
    "version": 3
   },
   "file_extension": ".py",
   "mimetype": "text/x-python",
   "name": "python",
   "nbconvert_exporter": "python",
   "pygments_lexer": "ipython3",
   "version": "3.6.8"
  }
 },
 "nbformat": 4,
 "nbformat_minor": 2
}
